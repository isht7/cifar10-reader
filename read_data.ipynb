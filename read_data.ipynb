{
 "cells": [
  {
   "cell_type": "code",
   "execution_count": 1,
   "metadata": {
    "collapsed": true
   },
   "outputs": [],
   "source": [
    "import numpy as np\n",
    "import pickle"
   ]
  },
  {
   "cell_type": "code",
   "execution_count": 5,
   "metadata": {
    "collapsed": true
   },
   "outputs": [],
   "source": [
    "def unpickle(file):\n",
    "    with open(file, 'rb') as fo:\n",
    "#         dict = pickle.load(fo) # for python 2 \n",
    "        dict = pickle.load(fo, encoding='bytes')  # for python 3\n",
    "    return dict\n",
    "\n",
    "def load_train_data():\n",
    "    '''\n",
    "    loads training data: 50,000 examples with 3072 features\n",
    "    '''\n",
    "    X_train = None\n",
    "    Y_train = None\n",
    "    for i in range(1, 6):\n",
    "        pickleFile = unpickle('cifar-10-batches-py/data_batch_{}'.format(i))\n",
    "        dataX = pickleFile[b'data']\n",
    "        dataY = pickleFile[b'labels']\n",
    "        if type(X_train) is np.ndarray:\n",
    "            X_train = np.concatenate((X_train, dataX))\n",
    "            Y_train = np.concatenate((Y_train, dataY))\n",
    "        else:\n",
    "            X_train = dataX\n",
    "            Y_train = dataY\n",
    "\n",
    "    Y_train = Y_train.reshape(Y_train.shape[0], 1)\n",
    "\n",
    "    return X_train.T, Y_train.T\n",
    "\n",
    "def load_test_data():\n",
    "    '''\n",
    "    loads testing data: 10,000 examples with 3072 features\n",
    "    '''\n",
    "    X_test = None\n",
    "    Y_test = None\n",
    "    pickleFile = unpickle('cifar-10-batches-py/test_batch')\n",
    "    dataX = pickleFile[b'data']\n",
    "    dataY = pickleFile[b'labels']\n",
    "    if type(X_test) is np.ndarray:\n",
    "        X_test = np.concatenate((X_test, dataX))\n",
    "        Y_test = np.concatenate((Y_test, dataY))\n",
    "    else:\n",
    "        X_test = np.array(dataX)\n",
    "        Y_test = np.array(dataY)\n",
    "\n",
    "    Y_test = Y_test.reshape(Y_test.shape[0], 1)\n",
    "\n",
    "    return X_test.T, Y_test.T"
   ]
  },
  {
   "cell_type": "code",
   "execution_count": 11,
   "metadata": {},
   "outputs": [],
   "source": [
    "X_train, Y_train = load_train_data()\n",
    "X_test, Y_test = load_test_data()"
   ]
  },
  {
   "cell_type": "code",
   "execution_count": 12,
   "metadata": {},
   "outputs": [
    {
     "name": "stdout",
     "output_type": "stream",
     "text": [
      "(50000, 3, 32, 32) (50000,)\n",
      "(10000, 3, 32, 32) (10000,)\n"
     ]
    }
   ],
   "source": [
    "Y_train = Y_train[0,:]\n",
    "X_train = X_train.reshape((3,32,32,50000))\n",
    "X_train = X_train.transpose((3,0,1,2))\n",
    "print(X_train.shape,Y_train.shape)\n",
    "\n",
    "\n",
    "Y_test = Y_test[0,:]\n",
    "X_test = X_test.reshape((3,32,32,10000))\n",
    "X_test = X_test.transpose((3,0,1,2))\n",
    "print(X_test.shape,Y_test.shape)"
   ]
  },
  {
   "cell_type": "code",
   "execution_count": null,
   "metadata": {
    "collapsed": true
   },
   "outputs": [],
   "source": [
    "torch.Size([1000, 1, 28, 28])"
   ]
  },
  {
   "cell_type": "code",
   "execution_count": 9,
   "metadata": {
    "collapsed": true
   },
   "outputs": [],
   "source": [
    "def get_batch(X, y, batch_size,list_,counter):\n",
    "    idx = list_[counter:counter+batch_size]\n",
    "    X_batch = X[idx,:,:,:]\n",
    "    y_batch = y[idx]\n",
    "    return X_batch, y_batch"
   ]
  },
  {
   "cell_type": "code",
   "execution_count": 18,
   "metadata": {},
   "outputs": [],
   "source": [
    "train_idx_epoch = list(range(Y_train.shape[0]))\n",
    "np.random.shuffle(train_idx_epoch)  # you will have to do the train val split for the hw, here it is not done.\n",
    "counter = 0\n",
    "batch_size = 100\n",
    "train_idx = []\n",
    "epocs = 30\n",
    "for i in range(epocs):\n",
    "    np.random.shuffle(train_idx_epoch)\n",
    "    train_idx.extend(train_idx_epoch)"
   ]
  },
  {
   "cell_type": "code",
   "execution_count": 33,
   "metadata": {},
   "outputs": [
    {
     "name": "stdout",
     "output_type": "stream",
     "text": [
      "(100, 3, 32, 32) 100\n",
      "(100, 3, 32, 32) 100\n",
      "(100, 3, 32, 32) 100\n",
      "(100, 3, 32, 32) 100\n",
      "(100, 3, 32, 32) 100\n",
      "(100, 3, 32, 32) 100\n",
      "(100, 3, 32, 32) 100\n",
      "(100, 3, 32, 32) 100\n",
      "(100, 3, 32, 32) 100\n",
      "(100, 3, 32, 32) 100\n"
     ]
    }
   ],
   "source": [
    "for it in range(10): # shown for 10 iterations\n",
    "    X_batch, Y_batch = get_batch( X_train, Y_train, batch_size,train_idx,counter)\n",
    "    # X_batch input for pytorch\n",
    "    print(X_batch.shape, Y_batch.size)\n",
    "    counter += batch_size"
   ]
  },
  {
   "cell_type": "code",
   "execution_count": 25,
   "metadata": {
    "collapsed": true
   },
   "outputs": [],
   "source": [
    "%matplotlib inline\n",
    "import matplotlib.pyplot as plt"
   ]
  },
  {
   "cell_type": "code",
   "execution_count": 32,
   "metadata": {},
   "outputs": [
    {
     "data": {
      "text/plain": [
       "<matplotlib.image.AxesImage at 0x7f4656920710>"
      ]
     },
     "execution_count": 32,
     "metadata": {},
     "output_type": "execute_result"
    },
    {
     "data": {
      "image/png": "[encoded data removed]",
      "text/plain": [
       "<matplotlib.figure.Figure at 0x7f4656a121d0>"
      ]
     },
     "metadata": {},
     "output_type": "display_data"
    }
   ],
   "source": [
    "plt.imshow(X_batch[0,:,:,:].transpose((1,2,0)))"
   ]
  },
  {
   "cell_type": "code",
   "execution_count": null,
   "metadata": {
    "collapsed": true
   },
   "outputs": [],
   "source": []
  }
 ],
 "metadata": {
  "kernelspec": {
   "display_name": "Python 3",
   "language": "python",
   "name": "python3"
  },
  "language_info": {
   "codemirror_mode": {
    "name": "ipython",
    "version": 3
   },
   "file_extension": ".py",
   "mimetype": "text/x-python",
   "name": "python",
   "nbconvert_exporter": "python",
   "pygments_lexer": "ipython3",
   "version": "3.6.3"
  }
 },
 "nbformat": 4,
 "nbformat_minor": 2
}
